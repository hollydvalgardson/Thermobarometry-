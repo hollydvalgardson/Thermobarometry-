{
 "cells": [
  {
   "cell_type": "code",
   "execution_count": 1,
   "id": "32d36325-a237-4971-931f-cdf879d516bb",
   "metadata": {},
   "outputs": [
    {
     "name": "stdout",
     "output_type": "stream",
     "text": [
      "Requirement already satisfied: thermobar in c:\\users\\holly\\anaconda3\\lib\\site-packages (0.0.18)\n",
      "Requirement already satisfied: numpy in c:\\users\\holly\\anaconda3\\lib\\site-packages (from thermobar) (1.20.1)\n",
      "Requirement already satisfied: scikit-learn in c:\\users\\holly\\anaconda3\\lib\\site-packages (from thermobar) (0.24.1)\n",
      "Requirement already satisfied: scipy in c:\\users\\holly\\anaconda3\\lib\\site-packages (from thermobar) (1.6.2)\n",
      "Requirement already satisfied: matplotlib in c:\\users\\holly\\anaconda3\\lib\\site-packages (from thermobar) (3.3.4)\n",
      "Requirement already satisfied: statsmodels in c:\\users\\holly\\anaconda3\\lib\\site-packages (from thermobar) (0.12.2)\n",
      "Requirement already satisfied: pandas in c:\\users\\holly\\anaconda3\\lib\\site-packages (from thermobar) (1.2.4)\n",
      "Requirement already satisfied: openpyxl in c:\\users\\holly\\anaconda3\\lib\\site-packages (from thermobar) (3.0.7)\n",
      "Requirement already satisfied: python-ternary in c:\\users\\holly\\anaconda3\\lib\\site-packages (from thermobar) (1.0.8)\n",
      "Requirement already satisfied: pillow>=6.2.0 in c:\\users\\holly\\anaconda3\\lib\\site-packages (from matplotlib->thermobar) (8.2.0)\n",
      "Requirement already satisfied: cycler>=0.10 in c:\\users\\holly\\anaconda3\\lib\\site-packages (from matplotlib->thermobar) (0.10.0)\n",
      "Requirement already satisfied: kiwisolver>=1.0.1 in c:\\users\\holly\\anaconda3\\lib\\site-packages (from matplotlib->thermobar) (1.3.1)\n",
      "Requirement already satisfied: pyparsing!=2.0.4,!=2.1.2,!=2.1.6,>=2.0.3 in c:\\users\\holly\\anaconda3\\lib\\site-packages (from matplotlib->thermobar) (2.4.7)\n",
      "Requirement already satisfied: python-dateutil>=2.1 in c:\\users\\holly\\anaconda3\\lib\\site-packages (from matplotlib->thermobar) (2.8.1)\n",
      "Requirement already satisfied: six in c:\\users\\holly\\anaconda3\\lib\\site-packages (from cycler>=0.10->matplotlib->thermobar) (1.15.0)\n",
      "Requirement already satisfied: et-xmlfile in c:\\users\\holly\\anaconda3\\lib\\site-packages (from openpyxl->thermobar) (1.0.1)\n",
      "Requirement already satisfied: pytz>=2017.3 in c:\\users\\holly\\anaconda3\\lib\\site-packages (from pandas->thermobar) (2021.1)\n",
      "Requirement already satisfied: threadpoolctl>=2.0.0 in c:\\users\\holly\\anaconda3\\lib\\site-packages (from scikit-learn->thermobar) (2.1.0)\n",
      "Requirement already satisfied: joblib>=0.11 in c:\\users\\holly\\anaconda3\\lib\\site-packages (from scikit-learn->thermobar) (1.0.1)\n",
      "Requirement already satisfied: patsy>=0.5 in c:\\users\\holly\\anaconda3\\lib\\site-packages (from statsmodels->thermobar) (0.5.1)\n"
     ]
    }
   ],
   "source": [
    "!pip install thermobar"
   ]
  },
  {
   "cell_type": "code",
   "execution_count": 2,
   "id": "11301984-f353-46f5-bbdc-b2254aa9b240",
   "metadata": {},
   "outputs": [],
   "source": [
    "import numpy as np\n",
    "import pandas as pd\n",
    "import matplotlib.pyplot as plt\n",
    "import Thermobar as pt"
   ]
  },
  {
   "cell_type": "code",
   "execution_count": 3,
   "id": "754e1136-389a-4460-8be1-ee851b5dbc7c",
   "metadata": {},
   "outputs": [],
   "source": [
    "out=pt.import_excel('ASW31,35,30,33,34_Pop1+2_Cpx Real.xlsx', sheet_name=\"Pop1_asw30\")\n",
    "my_input=out['my_input']\n",
    "Liqs=out['Liqs']\n",
    "Cpxs=out['Cpxs']"
   ]
  },
  {
   "cell_type": "code",
   "execution_count": 4,
   "id": "90f77416-98f8-471c-b425-2f31e560147c",
   "metadata": {},
   "outputs": [
    {
     "data": {
      "text/html": [
       "<div>\n",
       "<style scoped>\n",
       "    .dataframe tbody tr th:only-of-type {\n",
       "        vertical-align: middle;\n",
       "    }\n",
       "\n",
       "    .dataframe tbody tr th {\n",
       "        vertical-align: top;\n",
       "    }\n",
       "\n",
       "    .dataframe thead th {\n",
       "        text-align: right;\n",
       "    }\n",
       "</style>\n",
       "<table border=\"1\" class=\"dataframe\">\n",
       "  <thead>\n",
       "    <tr style=\"text-align: right;\">\n",
       "      <th></th>\n",
       "      <th>SiO2_Liq</th>\n",
       "      <th>TiO2_Liq</th>\n",
       "      <th>Al2O3_Liq</th>\n",
       "      <th>FeOt_Liq</th>\n",
       "      <th>MnO_Liq</th>\n",
       "      <th>MgO_Liq</th>\n",
       "      <th>CaO_Liq</th>\n",
       "      <th>Na2O_Liq</th>\n",
       "      <th>K2O_Liq</th>\n",
       "      <th>Cr2O3_Liq</th>\n",
       "      <th>P2O5_Liq</th>\n",
       "      <th>H2O_Liq</th>\n",
       "      <th>Fe3Fet_Liq</th>\n",
       "      <th>NiO_Liq</th>\n",
       "      <th>CoO_Liq</th>\n",
       "      <th>CO2_Liq</th>\n",
       "      <th>Sample_ID_Liq</th>\n",
       "    </tr>\n",
       "  </thead>\n",
       "  <tbody>\n",
       "    <tr>\n",
       "      <th>0</th>\n",
       "      <td>59.48</td>\n",
       "      <td>1.076</td>\n",
       "      <td>19.31</td>\n",
       "      <td>5.340</td>\n",
       "      <td>0.11</td>\n",
       "      <td>3.32</td>\n",
       "      <td>6.80</td>\n",
       "      <td>4.57</td>\n",
       "      <td>0.0</td>\n",
       "      <td>0.008</td>\n",
       "      <td>0.230</td>\n",
       "      <td>0.0</td>\n",
       "      <td>0.0</td>\n",
       "      <td>0.0</td>\n",
       "      <td>0.0</td>\n",
       "      <td>0.0</td>\n",
       "      <td>0</td>\n",
       "    </tr>\n",
       "    <tr>\n",
       "      <th>1</th>\n",
       "      <td>55.95</td>\n",
       "      <td>1.024</td>\n",
       "      <td>16.71</td>\n",
       "      <td>0.134</td>\n",
       "      <td>6.18</td>\n",
       "      <td>7.77</td>\n",
       "      <td>3.71</td>\n",
       "      <td>1.15</td>\n",
       "      <td>0.0</td>\n",
       "      <td>7.130</td>\n",
       "      <td>0.242</td>\n",
       "      <td>0.0</td>\n",
       "      <td>0.0</td>\n",
       "      <td>0.0</td>\n",
       "      <td>0.0</td>\n",
       "      <td>0.0</td>\n",
       "      <td>1</td>\n",
       "    </tr>\n",
       "    <tr>\n",
       "      <th>2</th>\n",
       "      <td>55.95</td>\n",
       "      <td>1.024</td>\n",
       "      <td>16.71</td>\n",
       "      <td>0.134</td>\n",
       "      <td>6.18</td>\n",
       "      <td>7.77</td>\n",
       "      <td>3.71</td>\n",
       "      <td>1.15</td>\n",
       "      <td>0.0</td>\n",
       "      <td>7.130</td>\n",
       "      <td>0.242</td>\n",
       "      <td>0.0</td>\n",
       "      <td>0.0</td>\n",
       "      <td>0.0</td>\n",
       "      <td>0.0</td>\n",
       "      <td>0.0</td>\n",
       "      <td>2</td>\n",
       "    </tr>\n",
       "  </tbody>\n",
       "</table>\n",
       "</div>"
      ],
      "text/plain": [
       "   SiO2_Liq  TiO2_Liq  Al2O3_Liq  FeOt_Liq  MnO_Liq  MgO_Liq  CaO_Liq  \\\n",
       "0     59.48     1.076      19.31     5.340     0.11     3.32     6.80   \n",
       "1     55.95     1.024      16.71     0.134     6.18     7.77     3.71   \n",
       "2     55.95     1.024      16.71     0.134     6.18     7.77     3.71   \n",
       "\n",
       "   Na2O_Liq  K2O_Liq  Cr2O3_Liq  P2O5_Liq  H2O_Liq  Fe3Fet_Liq  NiO_Liq  \\\n",
       "0      4.57      0.0      0.008     0.230      0.0         0.0      0.0   \n",
       "1      1.15      0.0      7.130     0.242      0.0         0.0      0.0   \n",
       "2      1.15      0.0      7.130     0.242      0.0         0.0      0.0   \n",
       "\n",
       "   CoO_Liq  CO2_Liq  Sample_ID_Liq  \n",
       "0      0.0      0.0              0  \n",
       "1      0.0      0.0              1  \n",
       "2      0.0      0.0              2  "
      ]
     },
     "metadata": {},
     "output_type": "display_data"
    },
    {
     "data": {
      "text/html": [
       "<div>\n",
       "<style scoped>\n",
       "    .dataframe tbody tr th:only-of-type {\n",
       "        vertical-align: middle;\n",
       "    }\n",
       "\n",
       "    .dataframe tbody tr th {\n",
       "        vertical-align: top;\n",
       "    }\n",
       "\n",
       "    .dataframe thead th {\n",
       "        text-align: right;\n",
       "    }\n",
       "</style>\n",
       "<table border=\"1\" class=\"dataframe\">\n",
       "  <thead>\n",
       "    <tr style=\"text-align: right;\">\n",
       "      <th></th>\n",
       "      <th>SiO2_Cpx</th>\n",
       "      <th>TiO2_Cpx</th>\n",
       "      <th>Al2O3_Cpx</th>\n",
       "      <th>FeOt_Cpx</th>\n",
       "      <th>MnO_Cpx</th>\n",
       "      <th>MgO_Cpx</th>\n",
       "      <th>CaO_Cpx</th>\n",
       "      <th>Na2O_Cpx</th>\n",
       "      <th>K2O_Cpx</th>\n",
       "      <th>Cr2O3_Cpx</th>\n",
       "      <th>Sample_ID_Cpx</th>\n",
       "    </tr>\n",
       "  </thead>\n",
       "  <tbody>\n",
       "    <tr>\n",
       "      <th>0</th>\n",
       "      <td>50.91</td>\n",
       "      <td>0.65</td>\n",
       "      <td>3.05</td>\n",
       "      <td>7.20</td>\n",
       "      <td>0.27</td>\n",
       "      <td>15.51</td>\n",
       "      <td>21.68</td>\n",
       "      <td>0.31</td>\n",
       "      <td>0.0</td>\n",
       "      <td>0.43</td>\n",
       "      <td>0</td>\n",
       "    </tr>\n",
       "    <tr>\n",
       "      <th>1</th>\n",
       "      <td>50.93</td>\n",
       "      <td>0.74</td>\n",
       "      <td>3.13</td>\n",
       "      <td>8.56</td>\n",
       "      <td>0.26</td>\n",
       "      <td>16.54</td>\n",
       "      <td>19.24</td>\n",
       "      <td>0.48</td>\n",
       "      <td>0.0</td>\n",
       "      <td>0.10</td>\n",
       "      <td>1</td>\n",
       "    </tr>\n",
       "    <tr>\n",
       "      <th>2</th>\n",
       "      <td>52.01</td>\n",
       "      <td>0.45</td>\n",
       "      <td>2.96</td>\n",
       "      <td>5.48</td>\n",
       "      <td>0.10</td>\n",
       "      <td>16.84</td>\n",
       "      <td>21.44</td>\n",
       "      <td>0.24</td>\n",
       "      <td>0.0</td>\n",
       "      <td>0.48</td>\n",
       "      <td>2</td>\n",
       "    </tr>\n",
       "  </tbody>\n",
       "</table>\n",
       "</div>"
      ],
      "text/plain": [
       "   SiO2_Cpx  TiO2_Cpx  Al2O3_Cpx  FeOt_Cpx  MnO_Cpx  MgO_Cpx  CaO_Cpx  \\\n",
       "0     50.91      0.65       3.05      7.20     0.27    15.51    21.68   \n",
       "1     50.93      0.74       3.13      8.56     0.26    16.54    19.24   \n",
       "2     52.01      0.45       2.96      5.48     0.10    16.84    21.44   \n",
       "\n",
       "   Na2O_Cpx  K2O_Cpx  Cr2O3_Cpx  Sample_ID_Cpx  \n",
       "0      0.31      0.0       0.43              0  \n",
       "1      0.48      0.0       0.10              1  \n",
       "2      0.24      0.0       0.48              2  "
      ]
     },
     "metadata": {},
     "output_type": "display_data"
    }
   ],
   "source": [
    "display(Liqs.head())\n",
    "display(Cpxs.head())"
   ]
  },
  {
   "cell_type": "code",
   "execution_count": 5,
   "id": "1a450a5b-8f4f-4be7-8f1f-8060544f85fe",
   "metadata": {},
   "outputs": [
    {
     "name": "stdout",
     "output_type": "stream",
     "text": [
      "Help on function calculate_cpx_liq_press in module Thermobar.clinopyroxene_thermobarometry:\n",
      "\n",
      "calculate_cpx_liq_press(*, equationP, cpx_comps=None, liq_comps=None, meltmatch=None, T=None, eq_tests=False, Fe3Fet_Liq=None, H2O_Liq=None, sigma=1, Kd_Err=0.03)\n",
      "    Clinopyroxene-Liquid barometer, calculates pressure in kbar\n",
      "    (and equilibrium tests as an option)\n",
      "    \n",
      "    Parameters\n",
      "    -------\n",
      "    \n",
      "    cpx_comps: pandas.DataFrame\n",
      "        Clinopyroxene compositions with column headings SiO2_Cpx, MgO_Cpx etc.\n",
      "    \n",
      "    liq_comps: pandas.DataFrame\n",
      "        Liquid compositions with column headings SiO2_Liq, MgO_Liq etc.\n",
      "    \n",
      "    EquationP: str\n",
      "        choose from:\n",
      "    \n",
      "        |  P_Put1996_eqP1 (T-dep, H2O-indep)\n",
      "        |  P_Mas2013_eqPalk1 (T-dep, H2O-indep, alk adaption of P1)\n",
      "        |  P_Put1996_eqP2 (T-dep, H2O-indep)\n",
      "        |  P_Mas2013_eqPalk2 (T-dep, H2O-indep, alk adaption of P2)\n",
      "        |  P_Put2003 ((T-dep, H2O-indep)\n",
      "        |  P_Neave2017 (T-dep, H2O-indep)\n",
      "        |  P_Put2008_eq30 (T-dep, H2O-dep)\n",
      "        |  P_Put2008_eq31 (T-dep, H2O-dep)\n",
      "        |  P_Put2008_eq32c (T-dep, H2O-dep)\n",
      "        |  P_Mas2013_eqalk32c (T-dep, H2O-dep, alk adaption of 32c)\n",
      "    \n",
      "    T: float, int, pandas.Series, str\n",
      "        Temperature in Kelvin to perform calculations at.\n",
      "        Only needed for T-sensitive barometers.\n",
      "        If enter T=\"Solve\", returns a partial function\n",
      "        Else, enter an integer, float, or panda series\n",
      "    \n",
      "    eq_tests: bool\n",
      "        If False, just returns pressure (default) as a panda series\n",
      "        If True, returns pressure, Values of Eq tests,\n",
      "        as well as user-entered cpx and liq comps and components\n",
      "    \n",
      "    Returns\n",
      "    -----------\n",
      "    Pressure in kbar: pandas.Series\n",
      "        If eq_tests is False\n",
      "    \n",
      "    Pressure in kbar + eq Tests + input compositions: pandas.DataFrame\n",
      "        If eq_tests is True\n",
      "\n"
     ]
    }
   ],
   "source": [
    "help(pt.calculate_cpx_liq_press)"
   ]
  },
  {
   "cell_type": "code",
   "execution_count": 6,
   "id": "35c95314-0d67-4b56-840c-8cfac1597cba",
   "metadata": {},
   "outputs": [
    {
     "name": "stdout",
     "output_type": "stream",
     "text": [
      "Help on function P_Neave2017 in module Thermobar.clinopyroxene_thermobarometry:\n",
      "\n",
      "P_Neave2017(T, *, lnK_Jd_liq, DiHd_2003, Al_Liq_cat_frac, Na_Liq_cat_frac, K_Liq_cat_frac)\n",
      "    Clinopyroxene-liquid barometer of Neave and Putirka (2017)\n",
      "    :cite:`neave2017new`\n",
      "    \n",
      "    SEE=+-1.4 kbar\n",
      "\n"
     ]
    }
   ],
   "source": [
    "help(pt.P_Neave2017)"
   ]
  },
  {
   "cell_type": "code",
   "execution_count": 7,
   "id": "39de86e9-5826-4f2a-b549-57fde4d27256",
   "metadata": {},
   "outputs": [
    {
     "data": {
      "text/html": [
       "<div>\n",
       "<style scoped>\n",
       "    .dataframe tbody tr th:only-of-type {\n",
       "        vertical-align: middle;\n",
       "    }\n",
       "\n",
       "    .dataframe tbody tr th {\n",
       "        vertical-align: top;\n",
       "    }\n",
       "\n",
       "    .dataframe thead th {\n",
       "        text-align: right;\n",
       "    }\n",
       "</style>\n",
       "<table border=\"1\" class=\"dataframe\">\n",
       "  <thead>\n",
       "    <tr style=\"text-align: right;\">\n",
       "      <th></th>\n",
       "      <th>P_kbar_calc</th>\n",
       "      <th>T_K_calc</th>\n",
       "    </tr>\n",
       "  </thead>\n",
       "  <tbody>\n",
       "    <tr>\n",
       "      <th>0</th>\n",
       "      <td>1.430262</td>\n",
       "      <td>1338.427659</td>\n",
       "    </tr>\n",
       "    <tr>\n",
       "      <th>1</th>\n",
       "      <td>7.768782</td>\n",
       "      <td>1436.187557</td>\n",
       "    </tr>\n",
       "    <tr>\n",
       "      <th>2</th>\n",
       "      <td>4.447963</td>\n",
       "      <td>1388.435112</td>\n",
       "    </tr>\n",
       "  </tbody>\n",
       "</table>\n",
       "</div>"
      ],
      "text/plain": [
       "   P_kbar_calc     T_K_calc\n",
       "0     1.430262  1338.427659\n",
       "1     7.768782  1436.187557\n",
       "2     4.447963  1388.435112"
      ]
     },
     "execution_count": 7,
     "metadata": {},
     "output_type": "execute_result"
    }
   ],
   "source": [
    "PT_iter_Neave_33=pt.calculate_cpx_liq_press_temp(cpx_comps=Cpxs, liq_comps=Liqs, equationP=\"P_Neave2017\", equationT=\"T_Put2008_eq33\")\n",
    "PT_iter_Neave_33"
   ]
  },
  {
   "cell_type": "code",
   "execution_count": 8,
   "id": "3102a290-2f65-4b6e-a05e-840cfa520f18",
   "metadata": {},
   "outputs": [
    {
     "data": {
      "text/plain": [
       "Text(0, 0.5, 'T (K)')"
      ]
     },
     "execution_count": 8,
     "metadata": {},
     "output_type": "execute_result"
    },
    {
     "data": {
      "image/png": "[encoded data removed]",
      "text/plain": [
       "<Figure size 432x288 with 1 Axes>"
      ]
     },
     "metadata": {
      "needs_background": "light"
     },
     "output_type": "display_data"
    }
   ],
   "source": [
    "plt.plot(PT_iter_Neave_33['P_kbar_calc'], PT_iter_Neave_33['T_K_calc'], 'ok')\n",
    "plt.xlabel('P (kbar)')\n",
    "plt.ylabel('T (K)')"
   ]
  },
  {
   "cell_type": "code",
   "execution_count": 10,
   "id": "ba2ce7df-0034-4820-a778-9ff75f88bd99",
   "metadata": {},
   "outputs": [],
   "source": [
    "# First, make a copy\n",
    "my_input_CPX1=my_input.copy()\n",
    "# Insert a new column, position, column name, then variable name you want to append.\n",
    "my_input_CPX1['P_Neave2017']=PT_iter_Neave_33['P_kbar_calc']\n",
    "my_input_CPX1['T_Put2008_eq33']=PT_iter_Neave_33['T_K_calc']\n",
    "# Save to an Excel sheet called \"Calc1\" using the pandas to excel function\n",
    "my_input_CPX1.to_excel('CPX_Calc_asw30_pop1newest.xlsx')"
   ]
  },
  {
   "cell_type": "code",
   "execution_count": null,
   "id": "e8595e21-4813-4417-8cc0-a55eb46905b7",
   "metadata": {},
   "outputs": [],
   "source": []
  }
 ],
 "metadata": {
  "kernelspec": {
   "display_name": "Python 3",
   "language": "python",
   "name": "python3"
  },
  "language_info": {
   "codemirror_mode": {
    "name": "ipython",
    "version": 3
   },
   "file_extension": ".py",
   "mimetype": "text/x-python",
   "name": "python",
   "nbconvert_exporter": "python",
   "pygments_lexer": "ipython3",
   "version": "3.8.8"
  }
 },
 "nbformat": 4,
 "nbformat_minor": 5
}
